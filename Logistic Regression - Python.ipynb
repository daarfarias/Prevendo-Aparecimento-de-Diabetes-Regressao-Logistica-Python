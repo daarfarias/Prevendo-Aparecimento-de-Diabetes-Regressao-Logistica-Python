{
 "cells": [
  {
   "cell_type": "markdown",
   "id": "dense-bargain",
   "metadata": {},
   "source": [
    "# PREVENDO DIABETES (LOGISTIC REGRESSION- PYTHON)"
   ]
  },
  {
   "cell_type": "markdown",
   "id": "funky-strengthening",
   "metadata": {},
   "source": [
    "> *Este conjunto de dados é originalmente do Instituto Nacional de Diabetes e Doenças Digestivas e Renais. Seu objetivo é prever se um paciente tem diabetes ou não, com base em certas medidas diagnósticas incluídas no conjunto de dados. Várias restrições foram colocadas na seleção dessas instâncias de um banco de dados maior. Em particular, todos os pacientes aqui são mulheres com pelo menos 21 anos de herança indígena Pima.* <br>\n",
    "\n",
    "<br>\n",
    "\n",
    "**Dataset:** https://www.kaggle.com/uciml/pima-indians-diabetes-database"
   ]
  },
  {
   "cell_type": "code",
   "execution_count": 1,
   "id": "bacterial-replication",
   "metadata": {},
   "outputs": [],
   "source": [
    "# Carregar pacotes\n",
    "import pandas as pd\n",
    "import matplotlib.pyplot as plt\n",
    "import seaborn as sns\n",
    "import numpy as np\n",
    "from sklearn.linear_model import LogisticRegression, LogisticRegressionCV\n",
    "from sklearn.metrics import classification_report, confusion_matrix, accuracy_score, roc_auc_score\n",
    "from sklearn.model_selection import train_test_split\n",
    "from sklearn.preprocessing import MinMaxScaler"
   ]
  },
  {
   "cell_type": "code",
   "execution_count": 2,
   "id": "filled-depth",
   "metadata": {},
   "outputs": [],
   "source": [
    "# Importar dados\n",
    "df_diabetes= pd.read_csv(\"diabetes.csv\")"
   ]
  },
  {
   "cell_type": "code",
   "execution_count": 3,
   "id": "advisory-database",
   "metadata": {},
   "outputs": [
    {
     "name": "stdout",
     "output_type": "stream",
     "text": [
      "<class 'pandas.core.frame.DataFrame'>\n",
      "RangeIndex: 768 entries, 0 to 767\n",
      "Data columns (total 9 columns):\n",
      " #   Column                    Non-Null Count  Dtype  \n",
      "---  ------                    --------------  -----  \n",
      " 0   Pregnancies               768 non-null    int64  \n",
      " 1   Glucose                   768 non-null    int64  \n",
      " 2   BloodPressure             768 non-null    int64  \n",
      " 3   SkinThickness             768 non-null    int64  \n",
      " 4   Insulin                   768 non-null    int64  \n",
      " 5   BMI                       768 non-null    float64\n",
      " 6   DiabetesPedigreeFunction  768 non-null    float64\n",
      " 7   Age                       768 non-null    int64  \n",
      " 8   Outcome                   768 non-null    int64  \n",
      "dtypes: float64(2), int64(7)\n",
      "memory usage: 54.1 KB\n"
     ]
    }
   ],
   "source": [
    "# Informações gerais dos dados\n",
    "df_diabetes.info()"
   ]
  },
  {
   "cell_type": "code",
   "execution_count": 4,
   "id": "paperback-study",
   "metadata": {},
   "outputs": [
    {
     "data": {
      "text/html": [
       "<div>\n",
       "<style scoped>\n",
       "    .dataframe tbody tr th:only-of-type {\n",
       "        vertical-align: middle;\n",
       "    }\n",
       "\n",
       "    .dataframe tbody tr th {\n",
       "        vertical-align: top;\n",
       "    }\n",
       "\n",
       "    .dataframe thead th {\n",
       "        text-align: right;\n",
       "    }\n",
       "</style>\n",
       "<table border=\"1\" class=\"dataframe\">\n",
       "  <thead>\n",
       "    <tr style=\"text-align: right;\">\n",
       "      <th></th>\n",
       "      <th>Pregnancies</th>\n",
       "      <th>Glucose</th>\n",
       "      <th>BloodPressure</th>\n",
       "      <th>SkinThickness</th>\n",
       "      <th>Insulin</th>\n",
       "      <th>BMI</th>\n",
       "      <th>DiabetesPedigreeFunction</th>\n",
       "      <th>Age</th>\n",
       "      <th>Outcome</th>\n",
       "    </tr>\n",
       "  </thead>\n",
       "  <tbody>\n",
       "    <tr>\n",
       "      <th>0</th>\n",
       "      <td>6</td>\n",
       "      <td>148</td>\n",
       "      <td>72</td>\n",
       "      <td>35</td>\n",
       "      <td>0</td>\n",
       "      <td>33.6</td>\n",
       "      <td>0.627</td>\n",
       "      <td>50</td>\n",
       "      <td>1</td>\n",
       "    </tr>\n",
       "    <tr>\n",
       "      <th>1</th>\n",
       "      <td>1</td>\n",
       "      <td>85</td>\n",
       "      <td>66</td>\n",
       "      <td>29</td>\n",
       "      <td>0</td>\n",
       "      <td>26.6</td>\n",
       "      <td>0.351</td>\n",
       "      <td>31</td>\n",
       "      <td>0</td>\n",
       "    </tr>\n",
       "    <tr>\n",
       "      <th>2</th>\n",
       "      <td>8</td>\n",
       "      <td>183</td>\n",
       "      <td>64</td>\n",
       "      <td>0</td>\n",
       "      <td>0</td>\n",
       "      <td>23.3</td>\n",
       "      <td>0.672</td>\n",
       "      <td>32</td>\n",
       "      <td>1</td>\n",
       "    </tr>\n",
       "    <tr>\n",
       "      <th>3</th>\n",
       "      <td>1</td>\n",
       "      <td>89</td>\n",
       "      <td>66</td>\n",
       "      <td>23</td>\n",
       "      <td>94</td>\n",
       "      <td>28.1</td>\n",
       "      <td>0.167</td>\n",
       "      <td>21</td>\n",
       "      <td>0</td>\n",
       "    </tr>\n",
       "    <tr>\n",
       "      <th>4</th>\n",
       "      <td>0</td>\n",
       "      <td>137</td>\n",
       "      <td>40</td>\n",
       "      <td>35</td>\n",
       "      <td>168</td>\n",
       "      <td>43.1</td>\n",
       "      <td>2.288</td>\n",
       "      <td>33</td>\n",
       "      <td>1</td>\n",
       "    </tr>\n",
       "  </tbody>\n",
       "</table>\n",
       "</div>"
      ],
      "text/plain": [
       "   Pregnancies  Glucose  BloodPressure  SkinThickness  Insulin   BMI  \\\n",
       "0            6      148             72             35        0  33.6   \n",
       "1            1       85             66             29        0  26.6   \n",
       "2            8      183             64              0        0  23.3   \n",
       "3            1       89             66             23       94  28.1   \n",
       "4            0      137             40             35      168  43.1   \n",
       "\n",
       "   DiabetesPedigreeFunction  Age  Outcome  \n",
       "0                     0.627   50        1  \n",
       "1                     0.351   31        0  \n",
       "2                     0.672   32        1  \n",
       "3                     0.167   21        0  \n",
       "4                     2.288   33        1  "
      ]
     },
     "execution_count": 4,
     "metadata": {},
     "output_type": "execute_result"
    }
   ],
   "source": [
    "# Visualizar as cinco primeiras linhas do dataset\n",
    "df_diabetes.head()"
   ]
  },
  {
   "cell_type": "code",
   "execution_count": 5,
   "id": "artificial-showcase",
   "metadata": {},
   "outputs": [
    {
     "data": {
      "text/html": [
       "<div>\n",
       "<style scoped>\n",
       "    .dataframe tbody tr th:only-of-type {\n",
       "        vertical-align: middle;\n",
       "    }\n",
       "\n",
       "    .dataframe tbody tr th {\n",
       "        vertical-align: top;\n",
       "    }\n",
       "\n",
       "    .dataframe thead th {\n",
       "        text-align: right;\n",
       "    }\n",
       "</style>\n",
       "<table border=\"1\" class=\"dataframe\">\n",
       "  <thead>\n",
       "    <tr style=\"text-align: right;\">\n",
       "      <th></th>\n",
       "      <th>Pregnancies</th>\n",
       "      <th>Glucose</th>\n",
       "      <th>BloodPressure</th>\n",
       "      <th>SkinThickness</th>\n",
       "      <th>Insulin</th>\n",
       "      <th>BMI</th>\n",
       "      <th>DiabetesPedigreeFunction</th>\n",
       "      <th>Age</th>\n",
       "      <th>Outcome</th>\n",
       "    </tr>\n",
       "  </thead>\n",
       "  <tbody>\n",
       "    <tr>\n",
       "      <th>763</th>\n",
       "      <td>10</td>\n",
       "      <td>101</td>\n",
       "      <td>76</td>\n",
       "      <td>48</td>\n",
       "      <td>180</td>\n",
       "      <td>32.9</td>\n",
       "      <td>0.171</td>\n",
       "      <td>63</td>\n",
       "      <td>0</td>\n",
       "    </tr>\n",
       "    <tr>\n",
       "      <th>764</th>\n",
       "      <td>2</td>\n",
       "      <td>122</td>\n",
       "      <td>70</td>\n",
       "      <td>27</td>\n",
       "      <td>0</td>\n",
       "      <td>36.8</td>\n",
       "      <td>0.340</td>\n",
       "      <td>27</td>\n",
       "      <td>0</td>\n",
       "    </tr>\n",
       "    <tr>\n",
       "      <th>765</th>\n",
       "      <td>5</td>\n",
       "      <td>121</td>\n",
       "      <td>72</td>\n",
       "      <td>23</td>\n",
       "      <td>112</td>\n",
       "      <td>26.2</td>\n",
       "      <td>0.245</td>\n",
       "      <td>30</td>\n",
       "      <td>0</td>\n",
       "    </tr>\n",
       "    <tr>\n",
       "      <th>766</th>\n",
       "      <td>1</td>\n",
       "      <td>126</td>\n",
       "      <td>60</td>\n",
       "      <td>0</td>\n",
       "      <td>0</td>\n",
       "      <td>30.1</td>\n",
       "      <td>0.349</td>\n",
       "      <td>47</td>\n",
       "      <td>1</td>\n",
       "    </tr>\n",
       "    <tr>\n",
       "      <th>767</th>\n",
       "      <td>1</td>\n",
       "      <td>93</td>\n",
       "      <td>70</td>\n",
       "      <td>31</td>\n",
       "      <td>0</td>\n",
       "      <td>30.4</td>\n",
       "      <td>0.315</td>\n",
       "      <td>23</td>\n",
       "      <td>0</td>\n",
       "    </tr>\n",
       "  </tbody>\n",
       "</table>\n",
       "</div>"
      ],
      "text/plain": [
       "     Pregnancies  Glucose  BloodPressure  SkinThickness  Insulin   BMI  \\\n",
       "763           10      101             76             48      180  32.9   \n",
       "764            2      122             70             27        0  36.8   \n",
       "765            5      121             72             23      112  26.2   \n",
       "766            1      126             60              0        0  30.1   \n",
       "767            1       93             70             31        0  30.4   \n",
       "\n",
       "     DiabetesPedigreeFunction  Age  Outcome  \n",
       "763                     0.171   63        0  \n",
       "764                     0.340   27        0  \n",
       "765                     0.245   30        0  \n",
       "766                     0.349   47        1  \n",
       "767                     0.315   23        0  "
      ]
     },
     "execution_count": 5,
     "metadata": {},
     "output_type": "execute_result"
    }
   ],
   "source": [
    "# Visualizar as cinco últimas linhas do dataset\n",
    "df_diabetes.tail()"
   ]
  },
  {
   "cell_type": "code",
   "execution_count": 6,
   "id": "pointed-marks",
   "metadata": {},
   "outputs": [
    {
     "data": {
      "text/html": [
       "<div>\n",
       "<style scoped>\n",
       "    .dataframe tbody tr th:only-of-type {\n",
       "        vertical-align: middle;\n",
       "    }\n",
       "\n",
       "    .dataframe tbody tr th {\n",
       "        vertical-align: top;\n",
       "    }\n",
       "\n",
       "    .dataframe thead th {\n",
       "        text-align: right;\n",
       "    }\n",
       "</style>\n",
       "<table border=\"1\" class=\"dataframe\">\n",
       "  <thead>\n",
       "    <tr style=\"text-align: right;\">\n",
       "      <th></th>\n",
       "      <th>Pregnancies</th>\n",
       "      <th>Glucose</th>\n",
       "      <th>BloodPressure</th>\n",
       "      <th>SkinThickness</th>\n",
       "      <th>Insulin</th>\n",
       "      <th>BMI</th>\n",
       "      <th>DiabetesPedigreeFunction</th>\n",
       "      <th>Age</th>\n",
       "      <th>Outcome</th>\n",
       "    </tr>\n",
       "  </thead>\n",
       "  <tbody>\n",
       "    <tr>\n",
       "      <th>count</th>\n",
       "      <td>768.000000</td>\n",
       "      <td>768.000000</td>\n",
       "      <td>768.000000</td>\n",
       "      <td>768.000000</td>\n",
       "      <td>768.000000</td>\n",
       "      <td>768.000000</td>\n",
       "      <td>768.000000</td>\n",
       "      <td>768.000000</td>\n",
       "      <td>768.000000</td>\n",
       "    </tr>\n",
       "    <tr>\n",
       "      <th>mean</th>\n",
       "      <td>3.845052</td>\n",
       "      <td>120.894531</td>\n",
       "      <td>69.105469</td>\n",
       "      <td>20.536458</td>\n",
       "      <td>79.799479</td>\n",
       "      <td>31.992578</td>\n",
       "      <td>0.471876</td>\n",
       "      <td>33.240885</td>\n",
       "      <td>0.348958</td>\n",
       "    </tr>\n",
       "    <tr>\n",
       "      <th>std</th>\n",
       "      <td>3.369578</td>\n",
       "      <td>31.972618</td>\n",
       "      <td>19.355807</td>\n",
       "      <td>15.952218</td>\n",
       "      <td>115.244002</td>\n",
       "      <td>7.884160</td>\n",
       "      <td>0.331329</td>\n",
       "      <td>11.760232</td>\n",
       "      <td>0.476951</td>\n",
       "    </tr>\n",
       "    <tr>\n",
       "      <th>min</th>\n",
       "      <td>0.000000</td>\n",
       "      <td>0.000000</td>\n",
       "      <td>0.000000</td>\n",
       "      <td>0.000000</td>\n",
       "      <td>0.000000</td>\n",
       "      <td>0.000000</td>\n",
       "      <td>0.078000</td>\n",
       "      <td>21.000000</td>\n",
       "      <td>0.000000</td>\n",
       "    </tr>\n",
       "    <tr>\n",
       "      <th>25%</th>\n",
       "      <td>1.000000</td>\n",
       "      <td>99.000000</td>\n",
       "      <td>62.000000</td>\n",
       "      <td>0.000000</td>\n",
       "      <td>0.000000</td>\n",
       "      <td>27.300000</td>\n",
       "      <td>0.243750</td>\n",
       "      <td>24.000000</td>\n",
       "      <td>0.000000</td>\n",
       "    </tr>\n",
       "    <tr>\n",
       "      <th>50%</th>\n",
       "      <td>3.000000</td>\n",
       "      <td>117.000000</td>\n",
       "      <td>72.000000</td>\n",
       "      <td>23.000000</td>\n",
       "      <td>30.500000</td>\n",
       "      <td>32.000000</td>\n",
       "      <td>0.372500</td>\n",
       "      <td>29.000000</td>\n",
       "      <td>0.000000</td>\n",
       "    </tr>\n",
       "    <tr>\n",
       "      <th>75%</th>\n",
       "      <td>6.000000</td>\n",
       "      <td>140.250000</td>\n",
       "      <td>80.000000</td>\n",
       "      <td>32.000000</td>\n",
       "      <td>127.250000</td>\n",
       "      <td>36.600000</td>\n",
       "      <td>0.626250</td>\n",
       "      <td>41.000000</td>\n",
       "      <td>1.000000</td>\n",
       "    </tr>\n",
       "    <tr>\n",
       "      <th>max</th>\n",
       "      <td>17.000000</td>\n",
       "      <td>199.000000</td>\n",
       "      <td>122.000000</td>\n",
       "      <td>99.000000</td>\n",
       "      <td>846.000000</td>\n",
       "      <td>67.100000</td>\n",
       "      <td>2.420000</td>\n",
       "      <td>81.000000</td>\n",
       "      <td>1.000000</td>\n",
       "    </tr>\n",
       "  </tbody>\n",
       "</table>\n",
       "</div>"
      ],
      "text/plain": [
       "       Pregnancies     Glucose  BloodPressure  SkinThickness     Insulin  \\\n",
       "count   768.000000  768.000000     768.000000     768.000000  768.000000   \n",
       "mean      3.845052  120.894531      69.105469      20.536458   79.799479   \n",
       "std       3.369578   31.972618      19.355807      15.952218  115.244002   \n",
       "min       0.000000    0.000000       0.000000       0.000000    0.000000   \n",
       "25%       1.000000   99.000000      62.000000       0.000000    0.000000   \n",
       "50%       3.000000  117.000000      72.000000      23.000000   30.500000   \n",
       "75%       6.000000  140.250000      80.000000      32.000000  127.250000   \n",
       "max      17.000000  199.000000     122.000000      99.000000  846.000000   \n",
       "\n",
       "              BMI  DiabetesPedigreeFunction         Age     Outcome  \n",
       "count  768.000000                768.000000  768.000000  768.000000  \n",
       "mean    31.992578                  0.471876   33.240885    0.348958  \n",
       "std      7.884160                  0.331329   11.760232    0.476951  \n",
       "min      0.000000                  0.078000   21.000000    0.000000  \n",
       "25%     27.300000                  0.243750   24.000000    0.000000  \n",
       "50%     32.000000                  0.372500   29.000000    0.000000  \n",
       "75%     36.600000                  0.626250   41.000000    1.000000  \n",
       "max     67.100000                  2.420000   81.000000    1.000000  "
      ]
     },
     "execution_count": 6,
     "metadata": {},
     "output_type": "execute_result"
    }
   ],
   "source": [
    "# Estatística descritiva dos dados\n",
    "df_diabetes.describe()"
   ]
  },
  {
   "cell_type": "code",
   "execution_count": 7,
   "id": "promotional-software",
   "metadata": {},
   "outputs": [
    {
     "data": {
      "text/plain": [
       "Pregnancies                 0\n",
       "Glucose                     0\n",
       "BloodPressure               0\n",
       "SkinThickness               0\n",
       "Insulin                     0\n",
       "BMI                         0\n",
       "DiabetesPedigreeFunction    0\n",
       "Age                         0\n",
       "Outcome                     0\n",
       "dtype: int64"
      ]
     },
     "execution_count": 7,
     "metadata": {},
     "output_type": "execute_result"
    }
   ],
   "source": [
    "# Checar NAs\n",
    "df_diabetes.isnull().sum()"
   ]
  },
  {
   "cell_type": "markdown",
   "id": "spanish-difficulty",
   "metadata": {},
   "source": [
    "## 2. LIMPEZA, TRANSFORMAÇÃO E ANÁLISE EXPLORATÓRIA DOS DADOS"
   ]
  },
  {
   "cell_type": "markdown",
   "id": "efficient-participation",
   "metadata": {},
   "source": [
    "**2.1 Dicionário das Variáveis** <br>\n",
    "<br>\n",
    "**Pregnancies:** Número de vezes que engravidou <br>\n",
    "**Glucose:** Concentração de glicose plasmática após duas horas do teste <br>\n",
    "**BloodPressure:** Pressão arterial diastólica (mm Hg) <br>\n",
    "**SkinThickness:** Espessura da dobra de pele do tríceps (mm)v\n",
    "**Insulin:** Insulina sérica após 2 horas do teste <br>\n",
    "**BMI:** Índice de massa corporal <br>\n",
    "**DiabetesPedigreeFunction:** Função que mede tendência a partir do histórico familiar <br>\n",
    "**Age:** Idade <br>\n",
    "**Outcome:** variável dependente (0 e 1) <br>"
   ]
  },
  {
   "cell_type": "markdown",
   "id": "taken-waterproof",
   "metadata": {},
   "source": [
    "### Variáveis"
   ]
  },
  {
   "cell_type": "code",
   "execution_count": 8,
   "id": "electronic-curve",
   "metadata": {},
   "outputs": [
    {
     "data": {
      "image/png": "[encoded data removed]",
      "text/plain": [
       "<Figure size 432x288 with 1 Axes>"
      ]
     },
     "metadata": {
      "needs_background": "light"
     },
     "output_type": "display_data"
    }
   ],
   "source": [
    "# Plotando variável Pregnancies\n",
    "plt.hist(df_diabetes[\"Pregnancies\"],bins=20,histtype=\"bar\",rwidth=.8,alpha=0.5)\n",
    "plt.title(\"Pregnancies\")\n",
    "plt.xlabel(\"\")\n",
    "plt.xticks(range(min(df_diabetes[\"Pregnancies\"]), max(df_diabetes[\"Pregnancies\"])+1))\n",
    "plt.show()"
   ]
  },
  {
   "cell_type": "code",
   "execution_count": 9,
   "id": "fresh-prerequisite",
   "metadata": {},
   "outputs": [
    {
     "data": {
      "image/png": "[encoded data removed]",
      "text/plain": [
       "<Figure size 432x288 with 1 Axes>"
      ]
     },
     "metadata": {
      "needs_background": "light"
     },
     "output_type": "display_data"
    }
   ],
   "source": [
    "# Plotando variável Glucose\n",
    "plt.hist(df_diabetes[\"Glucose\"],bins=20,histtype=\"bar\",rwidth=.8,alpha=0.5)\n",
    "plt.title(\"Glucose\")\n",
    "plt.xlabel(\"\")\n",
    "plt.show()"
   ]
  },
  {
   "cell_type": "code",
   "execution_count": 10,
   "id": "fleet-closer",
   "metadata": {},
   "outputs": [
    {
     "data": {
      "image/png": "[encoded data removed]",
      "text/plain": [
       "<Figure size 432x288 with 1 Axes>"
      ]
     },
     "metadata": {
      "needs_background": "light"
     },
     "output_type": "display_data"
    }
   ],
   "source": [
    "# Plotando variável BloodPressure\n",
    "plt.hist(df_diabetes[\"BloodPressure\"],bins=20,histtype=\"bar\",rwidth=.8,alpha=0.5)\n",
    "plt.title(\"BloodPressure\")\n",
    "plt.xlabel(\"\")\n",
    "plt.show()"
   ]
  },
  {
   "cell_type": "code",
   "execution_count": 11,
   "id": "primary-alfred",
   "metadata": {},
   "outputs": [
    {
     "data": {
      "image/png": "[encoded data removed]",
      "text/plain": [
       "<Figure size 432x288 with 1 Axes>"
      ]
     },
     "metadata": {
      "needs_background": "light"
     },
     "output_type": "display_data"
    }
   ],
   "source": [
    "# Plotando variável SkinThickness\n",
    "plt.hist(df_diabetes[\"SkinThickness\"],bins=20,histtype=\"bar\",rwidth=.8,alpha=0.5)\n",
    "plt.title(\"SkinThickness\")\n",
    "plt.xlabel(\"\")\n",
    "plt.show()"
   ]
  },
  {
   "cell_type": "code",
   "execution_count": 12,
   "id": "civic-nancy",
   "metadata": {},
   "outputs": [
    {
     "data": {
      "image/png": "[encoded data removed]",
      "text/plain": [
       "<Figure size 432x288 with 1 Axes>"
      ]
     },
     "metadata": {
      "needs_background": "light"
     },
     "output_type": "display_data"
    }
   ],
   "source": [
    "# Plotando variável BMI\n",
    "plt.hist(df_diabetes[\"BMI\"],bins=20,histtype=\"bar\",rwidth=.8,alpha=0.5)\n",
    "plt.title(\"BMI\")\n",
    "plt.xlabel(\"\")\n",
    "plt.show()"
   ]
  },
  {
   "cell_type": "code",
   "execution_count": 13,
   "id": "hourly-stanley",
   "metadata": {},
   "outputs": [
    {
     "data": {
      "image/png": "[encoded data removed]",
      "text/plain": [
       "<Figure size 432x288 with 1 Axes>"
      ]
     },
     "metadata": {
      "needs_background": "light"
     },
     "output_type": "display_data"
    }
   ],
   "source": [
    "# Plotando variável DiabetesPedigreeFunction\n",
    "plt.hist(df_diabetes[\"DiabetesPedigreeFunction\"],bins=20,histtype=\"bar\",rwidth=.8,alpha=0.5)\n",
    "plt.title(\"DiabetesPedigreeFunction\")\n",
    "plt.xlabel(\"\")\n",
    "plt.show()"
   ]
  },
  {
   "cell_type": "code",
   "execution_count": 14,
   "id": "attended-azerbaijan",
   "metadata": {},
   "outputs": [
    {
     "data": {
      "image/png": "[encoded data removed]",
      "text/plain": [
       "<Figure size 432x288 with 1 Axes>"
      ]
     },
     "metadata": {
      "needs_background": "light"
     },
     "output_type": "display_data"
    }
   ],
   "source": [
    "# Plotando variável Age\n",
    "plt.hist(df_diabetes[\"Age\"],bins=20,histtype=\"bar\",rwidth=.8,alpha=0.5)\n",
    "plt.title(\"Age\")\n",
    "plt.xlabel(\"\")\n",
    "plt.show()"
   ]
  },
  {
   "cell_type": "code",
   "execution_count": 15,
   "id": "outer-transparency",
   "metadata": {},
   "outputs": [
    {
     "name": "stderr",
     "output_type": "stream",
     "text": [
      "G:\\Anaconda3\\envs\\Project\\lib\\site-packages\\seaborn\\_decorators.py:36: FutureWarning: Pass the following variable as a keyword arg: x. From version 0.12, the only valid positional argument will be `data`, and passing other arguments without an explicit keyword will result in an error or misinterpretation.\n",
      "  warnings.warn(\n"
     ]
    },
    {
     "data": {
      "image/png": "[encoded data removed]",
      "text/plain": [
       "<Figure size 432x288 with 1 Axes>"
      ]
     },
     "metadata": {
      "needs_background": "light"
     },
     "output_type": "display_data"
    }
   ],
   "source": [
    "# Plotando variável Outcome\n",
    "sns.countplot(df_diabetes[\"Outcome\"])\n",
    "plt.title(\"Outcome\")\n",
    "plt.ylabel(\"\")\n",
    "plt.xlabel(\"\")\n",
    "plt.show()"
   ]
  },
  {
   "cell_type": "markdown",
   "id": "initial-sacramento",
   "metadata": {},
   "source": [
    "### 2.3 Limpando e Transformando Variáveis"
   ]
  },
  {
   "cell_type": "markdown",
   "id": "ecological-removal",
   "metadata": {},
   "source": [
    "Algumas variáveis possuem valores estranhos e devemos tomar uma decisão sobre como proceder.\n",
    "\n",
    "* Pregnancies: uma observação possui o valor de 17. Embora seja incomum, é possível que uma mulher tenha 17 gravidezes. Optamos por não realizar nenhum procedimento. <br>\n",
    "* As variáveis Glucose (5), Bloodpressure (35), SkinThickness (227), Insulin (374) e BMI (11) possuem observações com valor zero. Dado suas características devemos realizar alterações. Iremos substituir os valores zero pela sua média."
   ]
  },
  {
   "cell_type": "markdown",
   "id": "surprised-lawsuit",
   "metadata": {},
   "source": [
    "## 3. CONSTRUINDO MODELO"
   ]
  },
  {
   "cell_type": "code",
   "execution_count": 16,
   "id": "russian-harvey",
   "metadata": {},
   "outputs": [],
   "source": [
    "# Variáveis independentes\n",
    "X = df_diabetes.drop(\"Outcome\", axis = 1)"
   ]
  },
  {
   "cell_type": "code",
   "execution_count": 17,
   "id": "another-parcel",
   "metadata": {},
   "outputs": [],
   "source": [
    "# Substituindo valores 0 em X pela média\n",
    "X.replace(0,X.mean(axis=0),inplace=True)"
   ]
  },
  {
   "cell_type": "code",
   "execution_count": 18,
   "id": "promising-circular",
   "metadata": {},
   "outputs": [],
   "source": [
    "# Variável dependente\n",
    "y= df_diabetes[\"Outcome\"]"
   ]
  },
  {
   "cell_type": "code",
   "execution_count": 19,
   "id": "blind-press",
   "metadata": {},
   "outputs": [
    {
     "name": "stdout",
     "output_type": "stream",
     "text": [
      "(768, 8) (768,)\n"
     ]
    }
   ],
   "source": [
    "# Visualizando as dimensões de X e y\n",
    "print(X.shape,y.shape)"
   ]
  },
  {
   "cell_type": "code",
   "execution_count": 20,
   "id": "official-material",
   "metadata": {},
   "outputs": [],
   "source": [
    "# Divisão em dados de treino e teste\n",
    "X_treino, X_teste, Y_treino, Y_teste= train_test_split(X,y, test_size=0.3,stratify=y)"
   ]
  },
  {
   "cell_type": "code",
   "execution_count": 21,
   "id": "surrounded-nightmare",
   "metadata": {},
   "outputs": [],
   "source": [
    "# Normalizando os dados\n",
    "minmax = MinMaxScaler()\n",
    "X_treino_norm = minmax.fit_transform(X_treino) \n",
    "X_teste_norm = minmax.transform(X_teste)"
   ]
  },
  {
   "cell_type": "markdown",
   "id": "psychological-lotus",
   "metadata": {},
   "source": [
    "### MODELOS"
   ]
  },
  {
   "cell_type": "markdown",
   "id": "acoustic-blowing",
   "metadata": {},
   "source": [
    "### Modelo 1"
   ]
  },
  {
   "cell_type": "markdown",
   "id": "indie-fairy",
   "metadata": {},
   "source": [
    "* Usando todas variáveis independentes\n",
    "* Sem cross-validation"
   ]
  },
  {
   "cell_type": "code",
   "execution_count": 22,
   "id": "oriented-valve",
   "metadata": {},
   "outputs": [],
   "source": [
    "# Construindo modelo 1\n",
    "model_v1= LogisticRegression().fit(X_treino_norm,Y_treino)"
   ]
  },
  {
   "cell_type": "code",
   "execution_count": 23,
   "id": "martial-forge",
   "metadata": {},
   "outputs": [],
   "source": [
    "# Fazendo previsões\n",
    "glm_pred_v1= model_v1.predict(X_teste_norm)"
   ]
  },
  {
   "cell_type": "code",
   "execution_count": 24,
   "id": "geographic-manual",
   "metadata": {},
   "outputs": [
    {
     "name": "stdout",
     "output_type": "stream",
     "text": [
      "Matriz de Confusão: \n",
      " [[129  21]\n",
      " [ 38  43]]\n"
     ]
    }
   ],
   "source": [
    "# Matrix de confusão\n",
    "cm_v1 = confusion_matrix(Y_teste, glm_pred_v1) \n",
    "print (\"Matriz de Confusão: \\n\", cm_v1)"
   ]
  },
  {
   "cell_type": "code",
   "execution_count": 25,
   "id": "miniature-thumb",
   "metadata": {},
   "outputs": [
    {
     "name": "stdout",
     "output_type": "stream",
     "text": [
      "Acurácia do modelo 1:  0.7445887445887446\n"
     ]
    }
   ],
   "source": [
    "# Acurácia do modelo 1\n",
    "print (\"Acurácia do modelo 1: \", accuracy_score(Y_teste, glm_pred_v1))"
   ]
  },
  {
   "cell_type": "code",
   "execution_count": 26,
   "id": "incredible-palestinian",
   "metadata": {},
   "outputs": [
    {
     "name": "stdout",
     "output_type": "stream",
     "text": [
      "              precision    recall  f1-score   support\n",
      "\n",
      "           0       0.77      0.86      0.81       150\n",
      "           1       0.67      0.53      0.59        81\n",
      "\n",
      "    accuracy                           0.74       231\n",
      "   macro avg       0.72      0.70      0.70       231\n",
      "weighted avg       0.74      0.74      0.74       231\n",
      "\n"
     ]
    }
   ],
   "source": [
    "# Relatório da classificação\n",
    "print(classification_report(Y_teste, glm_pred_v1))"
   ]
  },
  {
   "cell_type": "code",
   "execution_count": 27,
   "id": "effective-registration",
   "metadata": {},
   "outputs": [
    {
     "data": {
      "text/html": [
       "<div>\n",
       "<style scoped>\n",
       "    .dataframe tbody tr th:only-of-type {\n",
       "        vertical-align: middle;\n",
       "    }\n",
       "\n",
       "    .dataframe tbody tr th {\n",
       "        vertical-align: top;\n",
       "    }\n",
       "\n",
       "    .dataframe thead th {\n",
       "        text-align: right;\n",
       "    }\n",
       "</style>\n",
       "<table border=\"1\" class=\"dataframe\">\n",
       "  <thead>\n",
       "    <tr style=\"text-align: right;\">\n",
       "      <th></th>\n",
       "      <th>X</th>\n",
       "      <th>var_importantes</th>\n",
       "    </tr>\n",
       "  </thead>\n",
       "  <tbody>\n",
       "    <tr>\n",
       "      <th>1</th>\n",
       "      <td>Glucose</td>\n",
       "      <td>3.988158</td>\n",
       "    </tr>\n",
       "    <tr>\n",
       "      <th>5</th>\n",
       "      <td>BMI</td>\n",
       "      <td>2.304687</td>\n",
       "    </tr>\n",
       "    <tr>\n",
       "      <th>6</th>\n",
       "      <td>DiabetesPedigreeFunction</td>\n",
       "      <td>1.341182</td>\n",
       "    </tr>\n",
       "    <tr>\n",
       "      <th>0</th>\n",
       "      <td>Pregnancies</td>\n",
       "      <td>1.267302</td>\n",
       "    </tr>\n",
       "    <tr>\n",
       "      <th>7</th>\n",
       "      <td>Age</td>\n",
       "      <td>1.247435</td>\n",
       "    </tr>\n",
       "    <tr>\n",
       "      <th>3</th>\n",
       "      <td>SkinThickness</td>\n",
       "      <td>1.082881</td>\n",
       "    </tr>\n",
       "    <tr>\n",
       "      <th>4</th>\n",
       "      <td>Insulin</td>\n",
       "      <td>0.376851</td>\n",
       "    </tr>\n",
       "    <tr>\n",
       "      <th>2</th>\n",
       "      <td>BloodPressure</td>\n",
       "      <td>0.046430</td>\n",
       "    </tr>\n",
       "  </tbody>\n",
       "</table>\n",
       "</div>"
      ],
      "text/plain": [
       "                          X  var_importantes\n",
       "1                   Glucose         3.988158\n",
       "5                       BMI         2.304687\n",
       "6  DiabetesPedigreeFunction         1.341182\n",
       "0               Pregnancies         1.267302\n",
       "7                       Age         1.247435\n",
       "3             SkinThickness         1.082881\n",
       "4                   Insulin         0.376851\n",
       "2             BloodPressure         0.046430"
      ]
     },
     "execution_count": 27,
     "metadata": {},
     "output_type": "execute_result"
    }
   ],
   "source": [
    "# Obter variáveis mais importantes\n",
    "var_importantes=pd.DataFrame({\"X\":list(X.columns),\"var_importantes\":[abs(i) for i in model_v1.coef_[0]]})\n",
    "var_importantes.sort_values(\"var_importantes\",ascending=False)"
   ]
  },
  {
   "cell_type": "code",
   "execution_count": 28,
   "id": "intelligent-comparison",
   "metadata": {},
   "outputs": [
    {
     "data": {
      "image/png": "[encoded data removed]",
      "text/plain": [
       "<Figure size 432x288 with 1 Axes>"
      ]
     },
     "metadata": {
      "needs_background": "light"
     },
     "output_type": "display_data"
    }
   ],
   "source": [
    "# Plotando variáveis mais importantes\n",
    "importancia = model_v1.coef_[0]\n",
    "plt.bar(range(len(importancia)), importancia,color=\"green\",ec=\"blue\")\n",
    "plt.title(\"Variáveis Mais Importantes\")\n",
    "plt.show()"
   ]
  },
  {
   "cell_type": "code",
   "execution_count": 29,
   "id": "committed-plenty",
   "metadata": {},
   "outputs": [
    {
     "name": "stdout",
     "output_type": "stream",
     "text": [
      "ROC AUC : 0.6954\n"
     ]
    }
   ],
   "source": [
    "# ROC AUC modelo 1\n",
    "ROC_AUC = roc_auc_score(Y_teste, glm_pred_v1)\n",
    "print('ROC AUC : {:.4f}'.format(ROC_AUC))"
   ]
  },
  {
   "cell_type": "markdown",
   "id": "private-counter",
   "metadata": {},
   "source": [
    "### Modelo 2"
   ]
  },
  {
   "cell_type": "markdown",
   "id": "premier-horizontal",
   "metadata": {},
   "source": [
    "* Usando todas variáveis indepententes\n",
    "* Usando cross-validation"
   ]
  },
  {
   "cell_type": "code",
   "execution_count": 30,
   "id": "through-carbon",
   "metadata": {},
   "outputs": [],
   "source": [
    "# Construindo modelo 2\n",
    "model_v2= LogisticRegressionCV(cv=21).fit(X_treino_norm,Y_treino)"
   ]
  },
  {
   "cell_type": "code",
   "execution_count": 31,
   "id": "designed-photography",
   "metadata": {},
   "outputs": [],
   "source": [
    "# Fazendo previsões\n",
    "glm_pred_v2= model_v2.predict(X_teste_norm)"
   ]
  },
  {
   "cell_type": "code",
   "execution_count": 32,
   "id": "intermediate-belly",
   "metadata": {},
   "outputs": [
    {
     "name": "stdout",
     "output_type": "stream",
     "text": [
      "Matriz de Confusão: \n",
      " [[126  24]\n",
      " [ 32  49]]\n"
     ]
    }
   ],
   "source": [
    "# Matrix de confusão\n",
    "cm2 = confusion_matrix(Y_teste,glm_pred_v2)\n",
    "print (\"Matriz de Confusão: \\n\", cm2)"
   ]
  },
  {
   "cell_type": "code",
   "execution_count": 33,
   "id": "democratic-seller",
   "metadata": {},
   "outputs": [
    {
     "name": "stdout",
     "output_type": "stream",
     "text": [
      "Acurácia do modelo 2:  0.7575757575757576\n"
     ]
    }
   ],
   "source": [
    "# Acurácia do modelo 2\n",
    "print (\"Acurácia do modelo 2: \", accuracy_score(Y_teste, glm_pred_v2))"
   ]
  },
  {
   "cell_type": "code",
   "execution_count": 34,
   "id": "fresh-stuff",
   "metadata": {},
   "outputs": [
    {
     "name": "stdout",
     "output_type": "stream",
     "text": [
      "              precision    recall  f1-score   support\n",
      "\n",
      "           0       0.80      0.84      0.82       150\n",
      "           1       0.67      0.60      0.64        81\n",
      "\n",
      "    accuracy                           0.76       231\n",
      "   macro avg       0.73      0.72      0.73       231\n",
      "weighted avg       0.75      0.76      0.75       231\n",
      "\n"
     ]
    }
   ],
   "source": [
    "# Relatório da classificação\n",
    "print(classification_report(Y_teste, glm_pred_v2))"
   ]
  },
  {
   "cell_type": "code",
   "execution_count": 35,
   "id": "pleasant-database",
   "metadata": {},
   "outputs": [
    {
     "data": {
      "text/html": [
       "<div>\n",
       "<style scoped>\n",
       "    .dataframe tbody tr th:only-of-type {\n",
       "        vertical-align: middle;\n",
       "    }\n",
       "\n",
       "    .dataframe tbody tr th {\n",
       "        vertical-align: top;\n",
       "    }\n",
       "\n",
       "    .dataframe thead th {\n",
       "        text-align: right;\n",
       "    }\n",
       "</style>\n",
       "<table border=\"1\" class=\"dataframe\">\n",
       "  <thead>\n",
       "    <tr style=\"text-align: right;\">\n",
       "      <th></th>\n",
       "      <th>X</th>\n",
       "      <th>var_importantes_CV</th>\n",
       "    </tr>\n",
       "  </thead>\n",
       "  <tbody>\n",
       "    <tr>\n",
       "      <th>1</th>\n",
       "      <td>Glucose</td>\n",
       "      <td>3.988158</td>\n",
       "    </tr>\n",
       "    <tr>\n",
       "      <th>5</th>\n",
       "      <td>BMI</td>\n",
       "      <td>2.304687</td>\n",
       "    </tr>\n",
       "    <tr>\n",
       "      <th>6</th>\n",
       "      <td>DiabetesPedigreeFunction</td>\n",
       "      <td>1.341182</td>\n",
       "    </tr>\n",
       "    <tr>\n",
       "      <th>0</th>\n",
       "      <td>Pregnancies</td>\n",
       "      <td>1.267302</td>\n",
       "    </tr>\n",
       "    <tr>\n",
       "      <th>7</th>\n",
       "      <td>Age</td>\n",
       "      <td>1.247435</td>\n",
       "    </tr>\n",
       "    <tr>\n",
       "      <th>3</th>\n",
       "      <td>SkinThickness</td>\n",
       "      <td>1.082881</td>\n",
       "    </tr>\n",
       "    <tr>\n",
       "      <th>4</th>\n",
       "      <td>Insulin</td>\n",
       "      <td>0.376851</td>\n",
       "    </tr>\n",
       "    <tr>\n",
       "      <th>2</th>\n",
       "      <td>BloodPressure</td>\n",
       "      <td>0.046430</td>\n",
       "    </tr>\n",
       "  </tbody>\n",
       "</table>\n",
       "</div>"
      ],
      "text/plain": [
       "                          X  var_importantes_CV\n",
       "1                   Glucose            3.988158\n",
       "5                       BMI            2.304687\n",
       "6  DiabetesPedigreeFunction            1.341182\n",
       "0               Pregnancies            1.267302\n",
       "7                       Age            1.247435\n",
       "3             SkinThickness            1.082881\n",
       "4                   Insulin            0.376851\n",
       "2             BloodPressure            0.046430"
      ]
     },
     "execution_count": 35,
     "metadata": {},
     "output_type": "execute_result"
    }
   ],
   "source": [
    "# Obter variáveis mais importantes\n",
    "var_importantes_CV=pd.DataFrame({\"X\":list(X.columns),\"var_importantes_CV\":[abs(i) for i in model_v1.coef_[0]]})\n",
    "var_importantes_CV.sort_values(\"var_importantes_CV\",ascending=False)"
   ]
  },
  {
   "cell_type": "code",
   "execution_count": 36,
   "id": "integrated-eleven",
   "metadata": {},
   "outputs": [
    {
     "data": {
      "image/png": "[encoded data removed]",
      "text/plain": [
       "<Figure size 432x288 with 1 Axes>"
      ]
     },
     "metadata": {
      "needs_background": "light"
     },
     "output_type": "display_data"
    }
   ],
   "source": [
    "# Plotando variáveis mais importantes\n",
    "importancia2 = model_v2.coef_[0]\n",
    "plt.bar(range(len(importancia2)), importancia2,color=\"green\",ec=\"blue\")\n",
    "plt.title(\"Variáveis Mais Importantes Modelo CV\")\n",
    "plt.show()"
   ]
  },
  {
   "cell_type": "code",
   "execution_count": 37,
   "id": "dated-queue",
   "metadata": {},
   "outputs": [
    {
     "name": "stdout",
     "output_type": "stream",
     "text": [
      "ROC AUC : 0.7225\n"
     ]
    }
   ],
   "source": [
    "# ROC AUC modelo 2\n",
    "ROC_AUC = roc_auc_score(Y_teste, glm_pred_v2)\n",
    "print('ROC AUC : {:.4f}'.format(ROC_AUC))"
   ]
  },
  {
   "cell_type": "markdown",
   "id": "veterinary-fancy",
   "metadata": {},
   "source": [
    "### Modelo 3"
   ]
  },
  {
   "cell_type": "markdown",
   "id": "smaller-statistics",
   "metadata": {},
   "source": [
    "* Modelo com as variáveis mais importantes (Glucose, BMI, Pregnancies, DiabetesPedigreeFunction)\n",
    "* Cross-validation"
   ]
  },
  {
   "cell_type": "code",
   "execution_count": 38,
   "id": "applied-pendant",
   "metadata": {},
   "outputs": [],
   "source": [
    "# Selecionando variáveis importantes\n",
    "X_treino_imp=X_treino.drop([\"BloodPressure\",\"SkinThickness\",\"Insulin\",\"Age\"],axis=1)\n",
    "X_teste_imp=X_teste.drop([\"BloodPressure\",\"SkinThickness\",\"Insulin\",\"Age\"],axis=1)"
   ]
  },
  {
   "cell_type": "code",
   "execution_count": 39,
   "id": "civic-desert",
   "metadata": {},
   "outputs": [],
   "source": [
    "# Normalizando as variáveis\n",
    "X_treino_imp_norm = minmax.fit_transform(X_treino_imp) \n",
    "X_teste_imp_norm = minmax.transform(X_teste_imp)"
   ]
  },
  {
   "cell_type": "code",
   "execution_count": 40,
   "id": "south-buffalo",
   "metadata": {},
   "outputs": [],
   "source": [
    "# Construindo modelo 3\n",
    "model_v3= LogisticRegressionCV(cv=21).fit(X_treino_imp_norm,Y_treino)"
   ]
  },
  {
   "cell_type": "code",
   "execution_count": 41,
   "id": "close-impact",
   "metadata": {},
   "outputs": [],
   "source": [
    "# Fazendo previsões\n",
    "glm_pred_v3= model_v3.predict(X_teste_imp_norm)"
   ]
  },
  {
   "cell_type": "code",
   "execution_count": 42,
   "id": "angry-execution",
   "metadata": {},
   "outputs": [
    {
     "name": "stdout",
     "output_type": "stream",
     "text": [
      "Matriz de Confusão: \n",
      " [[132  18]\n",
      " [ 32  49]]\n"
     ]
    }
   ],
   "source": [
    "# Matrix de confusão\n",
    "cm3 = confusion_matrix(Y_teste,glm_pred_v3)\n",
    "print (\"Matriz de Confusão: \\n\", cm3)"
   ]
  },
  {
   "cell_type": "code",
   "execution_count": 43,
   "id": "welcome-hayes",
   "metadata": {},
   "outputs": [
    {
     "name": "stdout",
     "output_type": "stream",
     "text": [
      "Acurácia do modelo 3:  0.7835497835497836\n"
     ]
    }
   ],
   "source": [
    "# Acurácia do modelo 3\n",
    "print (\"Acurácia do modelo 3: \", accuracy_score(Y_teste, glm_pred_v3))"
   ]
  },
  {
   "cell_type": "code",
   "execution_count": 44,
   "id": "satellite-treasure",
   "metadata": {},
   "outputs": [
    {
     "name": "stdout",
     "output_type": "stream",
     "text": [
      "              precision    recall  f1-score   support\n",
      "\n",
      "           0       0.80      0.88      0.84       150\n",
      "           1       0.73      0.60      0.66        81\n",
      "\n",
      "    accuracy                           0.78       231\n",
      "   macro avg       0.77      0.74      0.75       231\n",
      "weighted avg       0.78      0.78      0.78       231\n",
      "\n"
     ]
    }
   ],
   "source": [
    "# Relatório da classificação\n",
    "print(classification_report(Y_teste, glm_pred_v3))"
   ]
  },
  {
   "cell_type": "code",
   "execution_count": 45,
   "id": "allied-optimization",
   "metadata": {},
   "outputs": [
    {
     "name": "stdout",
     "output_type": "stream",
     "text": [
      "ROC AUC : 0.7425\n"
     ]
    }
   ],
   "source": [
    "# ROC AUC modelo 3\n",
    "ROC_AUC = roc_auc_score(Y_teste, glm_pred_v3)\n",
    "print('ROC AUC : {:.4f}'.format(ROC_AUC))"
   ]
  },
  {
   "cell_type": "markdown",
   "id": "robust-moderator",
   "metadata": {},
   "source": [
    "DIEGO RAMIREZ <br>\n",
    "daarfarias@hotmail.com <br>\n",
    "https://github.com/daarfarias"
   ]
  }
 ],
 "metadata": {
  "kernelspec": {
   "display_name": "Python 3",
   "language": "python",
   "name": "python3"
  },
  "language_info": {
   "codemirror_mode": {
    "name": "ipython",
    "version": 3
   },
   "file_extension": ".py",
   "mimetype": "text/x-python",
   "name": "python",
   "nbconvert_exporter": "python",
   "pygments_lexer": "ipython3",
   "version": "3.8.5"
  }
 },
 "nbformat": 4,
 "nbformat_minor": 5
}
